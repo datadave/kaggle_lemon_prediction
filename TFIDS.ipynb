{
 "metadata": {
  "name": ""
 },
 "nbformat": 3,
 "nbformat_minor": 0,
 "worksheets": [
  {
   "cells": [
    {
     "cell_type": "code",
     "collapsed": false,
     "input": [
      "from sklearn.datasets import load_files\n",
      "from sklearn.feature_extraction.text import CountVectorizer\n",
      "\n",
      "from sklearn.datasets import fetch_20newsgroups\n",
      "\n",
      "categories = [\n",
      "    'alt.atheism',\n",
      "    'talk.religion.misc',\n",
      "    'comp.graphics',\n",
      "    'sci.space',\n",
      "]\n",
      "\n",
      "# Load the text data\n",
      "print \"Loading data...\"\n",
      "twenty_train_subset = fetch_20newsgroups(subset='train', categories=categories)\n"
     ],
     "language": "python",
     "metadata": {},
     "outputs": [
      {
       "output_type": "stream",
       "stream": "stdout",
       "text": [
        "Loading data...\n"
       ]
      },
      {
       "output_type": "stream",
       "stream": "stderr",
       "text": [
        "No handlers could be found for logger \"sklearn.datasets.twenty_newsgroups\"\n"
       ]
      },
      {
       "output_type": "stream",
       "stream": "stdout",
       "text": [
        "Loading data...\n"
       ]
      },
      {
       "output_type": "stream",
       "stream": "stdout",
       "text": [
        "Loading data...\n"
       ]
      }
     ],
     "prompt_number": 3
    },
    {
     "cell_type": "code",
     "collapsed": false,
     "input": [
      "from sklearn.feature_extraction.text import TfidfVectorizer\n"
     ],
     "language": "python",
     "metadata": {},
     "outputs": [],
     "prompt_number": 6
    },
    {
     "cell_type": "code",
     "collapsed": false,
     "input": [
      "vectorizer = TfidfVectorizer(max_features = 1000, )\n",
      "X_train = vectorizer.fit_transform(twenty_train_subset.data)\n"
     ],
     "language": "python",
     "metadata": {},
     "outputs": [],
     "prompt_number": 10
    },
    {
     "cell_type": "code",
     "collapsed": false,
     "input": [
      "import numpy as np\n",
      "\n",
      "#vectorizer.get_feature_names()\n",
      "from sklearn.cross_validation import cross_val_score\n",
      "from sklearn.tree import DecisionTreeClassifier\n",
      "\n",
      "vectorizer = TfidfVectorizer(stop_words='english', lowercase=True, ngram_range=(1,2), min_df=1)\n",
      "X_train = vectorizer.fit_transform(twenty_train_subset.data)\n",
      "\n",
      "\n",
      "print \"Training DecisionTreeClassifier ... this could take a while\"\n",
      "tree_model = DecisionTreeClassifier()\n",
      "scores = cross_val_score(tree_model, X_train.toarray(), twenty_train_subset.target)\n",
      "print \"Cross validation scores...\"\n",
      "print scores"
     ],
     "language": "python",
     "metadata": {},
     "outputs": [
      {
       "output_type": "stream",
       "stream": "stdout",
       "text": [
        "Training DecisionTreeClassifier ... this could take a while\n",
        "Cross validation scores..."
       ]
      },
      {
       "output_type": "stream",
       "stream": "stdout",
       "text": [
        "\n",
        "[ 0.78761062  0.7920354   0.79351032]\n"
       ]
      }
     ],
     "prompt_number": 12
    },
    {
     "cell_type": "code",
     "collapsed": false,
     "input": [
      "print \"Training RandomForestClassifier ... this could take a while\"\n",
      "rf_model = RandomForestClassifier(n_estimators=10)\n",
      "\n",
      "scores = cross_val_score(rf_model, X_train.toarray(), twenty_train_subset.target)\n",
      "print \"Cross validation scores...\"\n",
      "print scores"
     ],
     "language": "python",
     "metadata": {},
     "outputs": []
    }
   ],
   "metadata": {}
  }
 ]
}