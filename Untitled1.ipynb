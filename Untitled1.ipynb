{
 "metadata": {
  "name": ""
 },
 "nbformat": 3,
 "nbformat_minor": 0,
 "worksheets": [
  {
   "cells": [
    {
     "cell_type": "code",
     "collapsed": false,
     "input": [
      "#import pandas as pd\n",
      "from datetime import timedelta\n",
      "from datetime import datetime\n",
      "\n",
      "data = pd.read_csv('inclass_training.csv')\n",
      "\n",
      "#print str(data.PurchDate)\n",
      "\n",
      "\n",
      "#obj = datetime.strptime(str(data.PurchDate), '%m/%d/%Y')\n",
      "#print obj\n",
      "\n",
      "#d = datetime.strptime('11/23/2010', '%m/%d/%Y')\n",
      "#print d\n",
      "\n",
      "#data['foo'] = data.PurchDate.map(lambda str(purchDate))\n",
      "data.WarrantyCost.describe()\n"
     ],
     "language": "python",
     "metadata": {},
     "outputs": [
      {
       "metadata": {},
       "output_type": "pyout",
       "prompt_number": 43,
       "text": [
        "count    64983.000000\n",
        "mean      1276.621224\n",
        "std        598.751394\n",
        "min        462.000000\n",
        "25%        837.000000\n",
        "50%       1169.000000\n",
        "75%       1623.000000\n",
        "max       7498.000000\n",
        "dtype: float64"
       ]
      }
     ],
     "prompt_number": 43
    },
    {
     "cell_type": "code",
     "collapsed": false,
     "input": [
      "data.WarrantyCost.value_counts()[:20]\n",
      "# so let's wait on this"
     ],
     "language": "python",
     "metadata": {},
     "outputs": [
      {
       "metadata": {},
       "output_type": "pyout",
       "prompt_number": 45,
       "text": [
        "920     2589\n",
        "1974    2135\n",
        "1389    1841\n",
        "2152    1830\n",
        "1215    1806\n",
        "1155    1647\n",
        "728     1491\n",
        "803     1490\n",
        "1503    1435\n",
        "1086    1397\n",
        "1243    1320\n",
        "1703    1299\n",
        "569     1258\n",
        "1020    1206\n",
        "983     1176\n",
        "1272    1156\n",
        "853     1091\n",
        "533     1055\n",
        "1763    1011\n",
        "671     1009\n",
        "dtype: int64"
       ]
      }
     ],
     "prompt_number": 45
    },
    {
     "cell_type": "code",
     "collapsed": false,
     "input": [
      "data"
     ],
     "language": "python",
     "metadata": {},
     "outputs": [
      {
       "html": [
        "<pre>\n",
        "&lt;class 'pandas.core.frame.DataFrame'&gt;\n",
        "Int64Index: 64983 entries, 0 to 64982\n",
        "Data columns (total 34 columns):\n",
        "RefId                                64983  non-null values\n",
        "IsBadBuy                             64983  non-null values\n",
        "PurchDate                            64983  non-null values\n",
        "Auction                              64983  non-null values\n",
        "VehYear                              64983  non-null values\n",
        "VehicleAge                           64983  non-null values\n",
        "Make                                 64983  non-null values\n",
        "Model                                64983  non-null values\n",
        "Trim                                 62881  non-null values\n",
        "SubModel                             64975  non-null values\n",
        "Color                                64975  non-null values\n",
        "Transmission                         64975  non-null values\n",
        "WheelTypeID                          62155  non-null values\n",
        "WheelType                            62150  non-null values\n",
        "VehOdo                               64983  non-null values\n",
        "Nationality                          64978  non-null values\n",
        "Size                                 64978  non-null values\n",
        "TopThreeAmericanName                 64978  non-null values\n",
        "MMRAcquisitionAuctionAveragePrice    64969  non-null values\n",
        "MMRAcquisitionAuctionCleanPrice      64969  non-null values\n",
        "MMRAcquisitionRetailAveragePrice     64969  non-null values\n",
        "MMRAcquisitonRetailCleanPrice        64969  non-null values\n",
        "MMRCurrentAuctionAveragePrice        64711  non-null values\n",
        "MMRCurrentAuctionCleanPrice          64711  non-null values\n",
        "MMRCurrentRetailAveragePrice         64711  non-null values\n",
        "MMRCurrentRetailCleanPrice           64711  non-null values\n",
        "PRIMEUNIT                            3041  non-null values\n",
        "AUCGUART                             3041  non-null values\n",
        "BYRNO                                64983  non-null values\n",
        "VNZIP1                               64983  non-null values\n",
        "VNST                                 64983  non-null values\n",
        "VehBCost                             64983  non-null values\n",
        "IsOnlineSale                         64983  non-null values\n",
        "WarrantyCost                         64983  non-null values\n",
        "dtypes: float64(10), int64(9), object(15)\n",
        "</pre>"
       ],
       "metadata": {},
       "output_type": "pyout",
       "prompt_number": 46,
       "text": [
        "<class 'pandas.core.frame.DataFrame'>\n",
        "Int64Index: 64983 entries, 0 to 64982\n",
        "Data columns (total 34 columns):\n",
        "RefId                                64983  non-null values\n",
        "IsBadBuy                             64983  non-null values\n",
        "PurchDate                            64983  non-null values\n",
        "Auction                              64983  non-null values\n",
        "VehYear                              64983  non-null values\n",
        "VehicleAge                           64983  non-null values\n",
        "Make                                 64983  non-null values\n",
        "Model                                64983  non-null values\n",
        "Trim                                 62881  non-null values\n",
        "SubModel                             64975  non-null values\n",
        "Color                                64975  non-null values\n",
        "Transmission                         64975  non-null values\n",
        "WheelTypeID                          62155  non-null values\n",
        "WheelType                            62150  non-null values\n",
        "VehOdo                               64983  non-null values\n",
        "Nationality                          64978  non-null values\n",
        "Size                                 64978  non-null values\n",
        "TopThreeAmericanName                 64978  non-null values\n",
        "MMRAcquisitionAuctionAveragePrice    64969  non-null values\n",
        "MMRAcquisitionAuctionCleanPrice      64969  non-null values\n",
        "MMRAcquisitionRetailAveragePrice     64969  non-null values\n",
        "MMRAcquisitonRetailCleanPrice        64969  non-null values\n",
        "MMRCurrentAuctionAveragePrice        64711  non-null values\n",
        "MMRCurrentAuctionCleanPrice          64711  non-null values\n",
        "MMRCurrentRetailAveragePrice         64711  non-null values\n",
        "MMRCurrentRetailCleanPrice           64711  non-null values\n",
        "PRIMEUNIT                            3041  non-null values\n",
        "AUCGUART                             3041  non-null values\n",
        "BYRNO                                64983  non-null values\n",
        "VNZIP1                               64983  non-null values\n",
        "VNST                                 64983  non-null values\n",
        "VehBCost                             64983  non-null values\n",
        "IsOnlineSale                         64983  non-null values\n",
        "WarrantyCost                         64983  non-null values\n",
        "dtypes: float64(10), int64(9), object(15)"
       ]
      }
     ],
     "prompt_number": 46
    },
    {
     "cell_type": "code",
     "collapsed": false,
     "input": [
      "data.SubModel.value_counts()"
     ],
     "language": "python",
     "metadata": {},
     "outputs": [
      {
       "metadata": {},
       "output_type": "pyout",
       "prompt_number": 55,
       "text": [
        "4D SEDAN            13510\n",
        "4D SEDAN LS          4194\n",
        "4D SEDAN SE          3425\n",
        "4D WAGON             1987\n",
        "MINIVAN 3.3L         1118\n",
        "4D SUV 4.2L LS       1072\n",
        "4D SEDAN LT          1003\n",
        "4D SEDAN SXT FFV      971\n",
        "4D SEDAN LX           958\n",
        "2D COUPE              953\n",
        "4D SEDAN EX           836\n",
        "4D SEDAN SEL          748\n",
        "4D SEDAN LT 3.5L      743\n",
        "4D SEDAN LEVEL 2      583\n",
        "4D SPORT              576\n",
        "...\n",
        "4D SEDAN NAVIGATION               1\n",
        "4D SPORT UTILITY SPORT EDITION    1\n",
        "4D SEDAN 2.7L SXT                 1\n",
        "EXT CAB 3.9L BASE                 1\n",
        "WAGON 4D                          1\n",
        "4D SEDAN 2.0L GL                  1\n",
        "2D CONVERTIBLE GL                 1\n",
        "4D SPORT UTILITY OFF-ROAD         1\n",
        "CREW CAB LIMITED                  1\n",
        "EXT CAB 4.7L ST                   1\n",
        "EXT CAB 4D 5.9L LARAMIE SLT       1\n",
        "EXT CAB 5.9L R/T                  1\n",
        "CREW CAB 3.5L Z71 LS              1\n",
        "4D WAGON 2.4L                     1\n",
        "REG CAB 4.6L W/T                  1\n",
        "Length: 842, dtype: int64"
       ]
      }
     ],
     "prompt_number": 55
    },
    {
     "cell_type": "code",
     "collapsed": false,
     "input": [
      "data.BYRNO.value_counts()[:50]"
     ],
     "language": "python",
     "metadata": {},
     "outputs": [
      {
       "metadata": {},
       "output_type": "pyout",
       "prompt_number": 64,
       "text": [
        "99761    3501\n",
        "18880    3197\n",
        "835      2663\n",
        "3453     2605\n",
        "22916    2573\n",
        "21053    2493\n",
        "19619    2449\n",
        "99750    2369\n",
        "17675    2326\n",
        "20928    2326\n",
        "21973    2267\n",
        "17212    2238\n",
        "20740    2149\n",
        "5546     1952\n",
        "18111    1882\n",
        "18822    1868\n",
        "23359    1855\n",
        "8655     1853\n",
        "20234    1850\n",
        "20833    1788\n",
        "19638    1655\n",
        "22808    1654\n",
        "18881    1546\n",
        "16044    1442\n",
        "25100    1414\n",
        "19662    1346\n",
        "20207    1192\n",
        "16926    1190\n",
        "52117    1119\n",
        "8172      975\n",
        "19064     737\n",
        "52492     607\n",
        "52598     521\n",
        "1235      409\n",
        "52644     349\n",
        "1231      346\n",
        "23657     324\n",
        "52646     310\n",
        "99740     301\n",
        "20392     232\n",
        "10430     164\n",
        "10315     148\n",
        "21047     128\n",
        "1191       91\n",
        "53245      70\n",
        "1051       69\n",
        "1151       57\n",
        "1045       53\n",
        "1085       46\n",
        "11410      39\n",
        "dtype: int64"
       ]
      }
     ],
     "prompt_number": 64
    },
    {
     "cell_type": "code",
     "collapsed": false,
     "input": [
      "data.BYRNO.describe()"
     ],
     "language": "python",
     "metadata": {},
     "outputs": [
      {
       "metadata": {},
       "output_type": "pyout",
       "prompt_number": 60,
       "text": [
        "count    64983.000000\n",
        "mean     26341.544696\n",
        "std      25702.726441\n",
        "min        835.000000\n",
        "25%      17212.000000\n",
        "50%      19662.000000\n",
        "75%      22808.000000\n",
        "max      99761.000000\n",
        "dtype: float64"
       ]
      }
     ],
     "prompt_number": 60
    },
    {
     "cell_type": "code",
     "collapsed": false,
     "input": [
      "data.WheelTypeID.value_counts()"
     ],
     "language": "python",
     "metadata": {},
     "outputs": [
      {
       "metadata": {},
       "output_type": "pyout",
       "prompt_number": 65,
       "text": [
        "1    32090\n",
        "2    29388\n",
        "3      672\n",
        "0        5\n",
        "dtype: int64"
       ]
      }
     ],
     "prompt_number": 65
    },
    {
     "cell_type": "code",
     "collapsed": false,
     "input": [
      "data.WheelType.value_counts()"
     ],
     "language": "python",
     "metadata": {},
     "outputs": [
      {
       "metadata": {},
       "output_type": "pyout",
       "prompt_number": 66,
       "text": [
        "Alloy      32090\n",
        "Covers     29388\n",
        "Special      672\n",
        "dtype: int64"
       ]
      }
     ],
     "prompt_number": 66
    },
    {
     "cell_type": "code",
     "collapsed": false,
     "input": [
      "data.Transmission.value_counts()"
     ],
     "language": "python",
     "metadata": {},
     "outputs": [
      {
       "metadata": {},
       "output_type": "pyout",
       "prompt_number": 69,
       "text": [
        "AUTO      62687\n",
        "MANUAL     2287\n",
        "Manual        1\n",
        "dtype: int64"
       ]
      }
     ],
     "prompt_number": 69
    },
    {
     "cell_type": "code",
     "collapsed": false,
     "input": [
      "data['SmartTransmission'] = data.Transmission.map(lambda trans: trans if trans == 'AUTO' else 'MANUAL')"
     ],
     "language": "python",
     "metadata": {},
     "outputs": [],
     "prompt_number": 73
    },
    {
     "cell_type": "code",
     "collapsed": false,
     "input": [
      "data.SmartTransmission.value_counts()"
     ],
     "language": "python",
     "metadata": {},
     "outputs": [
      {
       "metadata": {},
       "output_type": "pyout",
       "prompt_number": 75,
       "text": [
        "AUTO      62687\n",
        "MANUAL     2296\n",
        "dtype: int64"
       ]
      }
     ],
     "prompt_number": 75
    },
    {
     "cell_type": "code",
     "collapsed": false,
     "input": [
      "data.Color.value_counts()"
     ],
     "language": "python",
     "metadata": {},
     "outputs": [
      {
       "metadata": {},
       "output_type": "pyout",
       "prompt_number": 79,
       "text": [
        "SILVER       13277\n",
        "WHITE        10774\n",
        "BLUE          9227\n",
        "GREY          6949\n",
        "BLACK         6785\n",
        "RED           5582\n",
        "GOLD          4715\n",
        "GREEN         2827\n",
        "MAROON        1813\n",
        "BEIGE         1417\n",
        "BROWN          379\n",
        "ORANGE         370\n",
        "PURPLE         343\n",
        "OTHER          217\n",
        "YELLOW         215\n",
        "NOT AVAIL       85\n",
        "dtype: int64"
       ]
      }
     ],
     "prompt_number": 79
    },
    {
     "cell_type": "code",
     "collapsed": false,
     "input": [
      "data.Auction.value_counts()"
     ],
     "language": "python",
     "metadata": {},
     "outputs": [
      {
       "metadata": {},
       "output_type": "pyout",
       "prompt_number": 87,
       "text": [
        "MANHEIM    36558\n",
        "OTHER      15594\n",
        "ADESA      12831\n",
        "dtype: int64"
       ]
      }
     ],
     "prompt_number": 87
    },
    {
     "cell_type": "code",
     "collapsed": false,
     "input": [
      "dm = pd.get_dummies(data.VNST)\n",
      "dm"
     ],
     "language": "python",
     "metadata": {},
     "outputs": [
      {
       "html": [
        "<pre>\n",
        "&lt;class 'pandas.core.frame.DataFrame'&gt;\n",
        "Int64Index: 64983 entries, 0 to 64982\n",
        "Data columns (total 37 columns):\n",
        "AL    64983  non-null values\n",
        "AR    64983  non-null values\n",
        "AZ    64983  non-null values\n",
        "CA    64983  non-null values\n",
        "CO    64983  non-null values\n",
        "FL    64983  non-null values\n",
        "GA    64983  non-null values\n",
        "IA    64983  non-null values\n",
        "ID    64983  non-null values\n",
        "IL    64983  non-null values\n",
        "IN    64983  non-null values\n",
        "KY    64983  non-null values\n",
        "LA    64983  non-null values\n",
        "MA    64983  non-null values\n",
        "MD    64983  non-null values\n",
        "MI    64983  non-null values\n",
        "MN    64983  non-null values\n",
        "MO    64983  non-null values\n",
        "MS    64983  non-null values\n",
        "NC    64983  non-null values\n",
        "NE    64983  non-null values\n",
        "NH    64983  non-null values\n",
        "NJ    64983  non-null values\n",
        "NM    64983  non-null values\n",
        "NV    64983  non-null values\n",
        "NY    64983  non-null values\n",
        "OH    64983  non-null values\n",
        "OK    64983  non-null values\n",
        "OR    64983  non-null values\n",
        "PA    64983  non-null values\n",
        "SC    64983  non-null values\n",
        "TN    64983  non-null values\n",
        "TX    64983  non-null values\n",
        "UT    64983  non-null values\n",
        "VA    64983  non-null values\n",
        "WA    64983  non-null values\n",
        "WV    64983  non-null values\n",
        "dtypes: float64(37)\n",
        "</pre>"
       ],
       "metadata": {},
       "output_type": "pyout",
       "prompt_number": 95,
       "text": [
        "<class 'pandas.core.frame.DataFrame'>\n",
        "Int64Index: 64983 entries, 0 to 64982\n",
        "Data columns (total 37 columns):\n",
        "AL    64983  non-null values\n",
        "AR    64983  non-null values\n",
        "AZ    64983  non-null values\n",
        "CA    64983  non-null values\n",
        "CO    64983  non-null values\n",
        "FL    64983  non-null values\n",
        "GA    64983  non-null values\n",
        "IA    64983  non-null values\n",
        "ID    64983  non-null values\n",
        "IL    64983  non-null values\n",
        "IN    64983  non-null values\n",
        "KY    64983  non-null values\n",
        "LA    64983  non-null values\n",
        "MA    64983  non-null values\n",
        "MD    64983  non-null values\n",
        "MI    64983  non-null values\n",
        "MN    64983  non-null values\n",
        "MO    64983  non-null values\n",
        "MS    64983  non-null values\n",
        "NC    64983  non-null values\n",
        "NE    64983  non-null values\n",
        "NH    64983  non-null values\n",
        "NJ    64983  non-null values\n",
        "NM    64983  non-null values\n",
        "NV    64983  non-null values\n",
        "NY    64983  non-null values\n",
        "OH    64983  non-null values\n",
        "OK    64983  non-null values\n",
        "OR    64983  non-null values\n",
        "PA    64983  non-null values\n",
        "SC    64983  non-null values\n",
        "TN    64983  non-null values\n",
        "TX    64983  non-null values\n",
        "UT    64983  non-null values\n",
        "VA    64983  non-null values\n",
        "WA    64983  non-null values\n",
        "WV    64983  non-null values\n",
        "dtypes: float64(37)"
       ]
      }
     ],
     "prompt_number": 95
    },
    {
     "cell_type": "code",
     "collapsed": false,
     "input": [],
     "language": "python",
     "metadata": {},
     "outputs": []
    }
   ],
   "metadata": {}
  }
 ]
}