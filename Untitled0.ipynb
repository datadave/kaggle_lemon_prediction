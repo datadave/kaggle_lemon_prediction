{
 "metadata": {
  "name": ""
 },
 "nbformat": 3,
 "nbformat_minor": 0,
 "worksheets": [
  {
   "cells": [
    {
     "cell_type": "code",
     "collapsed": false,
     "input": [
      "import pandas as pd\n",
      "\n",
      "data = pd.read_csv('training.csv')\n"
     ],
     "language": "python",
     "metadata": {},
     "outputs": [
      {
       "output_type": "stream",
       "stream": "stdout",
       "text": [
        "<class 'pandas.core.frame.DataFrame'>\n",
        "Int64Index: 72983 entries, 0 to 72982\n",
        "Data columns (total 34 columns):\n",
        "RefId                                72983  non-null values\n",
        "IsBadBuy                             72983  non-null values\n",
        "PurchDate                            72983  non-null values\n",
        "Auction                              72983  non-null values\n",
        "VehYear                              72983  non-null values\n",
        "VehicleAge                           72983  non-null values\n",
        "Make                                 72983  non-null values\n",
        "Model                                72983  non-null values\n",
        "Trim                                 70623  non-null values\n",
        "SubModel                             72975  non-null values\n",
        "Color                                72975  non-null values\n",
        "Transmission                         72974  non-null values\n",
        "WheelTypeID                          69814  non-null values\n",
        "WheelType                            69809  non-null values\n",
        "VehOdo                               72983  non-null values\n",
        "Nationality                          72978  non-null values\n",
        "Size                                 72978  non-null values\n",
        "TopThreeAmericanName                 72978  non-null values\n",
        "MMRAcquisitionAuctionAveragePrice    72965  non-null values\n",
        "MMRAcquisitionAuctionCleanPrice      72965  non-null values\n",
        "MMRAcquisitionRetailAveragePrice     72965  non-null values\n",
        "MMRAcquisitonRetailCleanPrice        72965  non-null values\n",
        "MMRCurrentAuctionAveragePrice        72668  non-null values\n",
        "MMRCurrentAuctionCleanPrice          72668  non-null values\n",
        "MMRCurrentRetailAveragePrice         72668  non-null values\n",
        "MMRCurrentRetailCleanPrice           72668  non-null values\n",
        "PRIMEUNIT                            3419  non-null values\n",
        "AUCGUART                             3419  non-null values\n",
        "BYRNO                                72983  non-null values\n",
        "VNZIP1                               72983  non-null values\n",
        "VNST                                 72983  non-null values\n",
        "VehBCost                             72983  non-null values\n",
        "IsOnlineSale                         72983  non-null values\n",
        "WarrantyCost                         72983  non-null values\n",
        "dtypes: float64(10), int64(9), object(15)\n"
       ]
      }
     ],
     "prompt_number": 2
    },
    {
     "cell_type": "code",
     "collapsed": false,
     "input": [
      "print data.AUCGUART.value_counts()"
     ],
     "language": "python",
     "metadata": {},
     "outputs": [
      {
       "output_type": "stream",
       "stream": "stdout",
       "text": [
        "GREEN    3340\n",
        "RED        79\n",
        "dtype: int64\n"
       ]
      }
     ],
     "prompt_number": 57
    },
    {
     "cell_type": "code",
     "collapsed": false,
     "input": [
      "actype = pd.get_dummies(data['AUCGUART'])\n",
      "print \"GREEN: \"\n",
      "print actype.GREEN.value_counts()\n",
      "print \"RED: \"\n",
      "print actype.RED.value_counts()\n"
     ],
     "language": "python",
     "metadata": {},
     "outputs": [
      {
       "output_type": "stream",
       "stream": "stdout",
       "text": [
        "GREEN: \n",
        "0    69643\n",
        "1     3340\n",
        "dtype: int64\n",
        "RED: \n",
        "1    69643\n",
        "0     3340\n",
        "dtype: int64\n"
       ]
      }
     ],
     "prompt_number": 63
    },
    {
     "cell_type": "code",
     "collapsed": false,
     "input": [
      "top_10_make = set (data.Make.value_counts().index[:10])\n",
      "print top_10_make"
     ],
     "language": "python",
     "metadata": {},
     "outputs": [
      {
       "output_type": "stream",
       "stream": "stdout",
       "text": [
        "set(['DODGE', 'PONTIAC', 'JEEP', 'CHEVROLET', 'NISSAN', 'HYUNDAI', 'FORD', 'CHRYSLER', 'KIA', 'SATURN'])\n"
       ]
      }
     ],
     "prompt_number": 11
    },
    {
     "cell_type": "code",
     "collapsed": false,
     "input": [
      "data['smart_make'] = data.Make.map( lambda make: make if make in top_10_make else 'Other')"
     ],
     "language": "python",
     "metadata": {},
     "outputs": [],
     "prompt_number": 14
    },
    {
     "cell_type": "code",
     "collapsed": false,
     "input": [
      "data"
     ],
     "language": "python",
     "metadata": {},
     "outputs": [
      {
       "html": [
        "<pre>\n",
        "&lt;class 'pandas.core.frame.DataFrame'&gt;\n",
        "Int64Index: 72983 entries, 0 to 72982\n",
        "Data columns (total 35 columns):\n",
        "RefId                                72983  non-null values\n",
        "IsBadBuy                             72983  non-null values\n",
        "PurchDate                            72983  non-null values\n",
        "Auction                              72983  non-null values\n",
        "VehYear                              72983  non-null values\n",
        "VehicleAge                           72983  non-null values\n",
        "Make                                 72983  non-null values\n",
        "Model                                72983  non-null values\n",
        "Trim                                 70623  non-null values\n",
        "SubModel                             72975  non-null values\n",
        "Color                                72975  non-null values\n",
        "Transmission                         72974  non-null values\n",
        "WheelTypeID                          69814  non-null values\n",
        "WheelType                            69809  non-null values\n",
        "VehOdo                               72983  non-null values\n",
        "Nationality                          72978  non-null values\n",
        "Size                                 72978  non-null values\n",
        "TopThreeAmericanName                 72978  non-null values\n",
        "MMRAcquisitionAuctionAveragePrice    72965  non-null values\n",
        "MMRAcquisitionAuctionCleanPrice      72965  non-null values\n",
        "MMRAcquisitionRetailAveragePrice     72965  non-null values\n",
        "MMRAcquisitonRetailCleanPrice        72965  non-null values\n",
        "MMRCurrentAuctionAveragePrice        72668  non-null values\n",
        "MMRCurrentAuctionCleanPrice          72668  non-null values\n",
        "MMRCurrentRetailAveragePrice         72668  non-null values\n",
        "MMRCurrentRetailCleanPrice           72668  non-null values\n",
        "PRIMEUNIT                            3419  non-null values\n",
        "AUCGUART                             3419  non-null values\n",
        "BYRNO                                72983  non-null values\n",
        "VNZIP1                               72983  non-null values\n",
        "VNST                                 72983  non-null values\n",
        "VehBCost                             72983  non-null values\n",
        "IsOnlineSale                         72983  non-null values\n",
        "WarrantyCost                         72983  non-null values\n",
        "smart_make                           72983  non-null values\n",
        "dtypes: float64(10), int64(9), object(16)\n",
        "</pre>"
       ],
       "metadata": {},
       "output_type": "pyout",
       "prompt_number": 15,
       "text": [
        "<class 'pandas.core.frame.DataFrame'>\n",
        "Int64Index: 72983 entries, 0 to 72982\n",
        "Data columns (total 35 columns):\n",
        "RefId                                72983  non-null values\n",
        "IsBadBuy                             72983  non-null values\n",
        "PurchDate                            72983  non-null values\n",
        "Auction                              72983  non-null values\n",
        "VehYear                              72983  non-null values\n",
        "VehicleAge                           72983  non-null values\n",
        "Make                                 72983  non-null values\n",
        "Model                                72983  non-null values\n",
        "Trim                                 70623  non-null values\n",
        "SubModel                             72975  non-null values\n",
        "Color                                72975  non-null values\n",
        "Transmission                         72974  non-null values\n",
        "WheelTypeID                          69814  non-null values\n",
        "WheelType                            69809  non-null values\n",
        "VehOdo                               72983  non-null values\n",
        "Nationality                          72978  non-null values\n",
        "Size                                 72978  non-null values\n",
        "TopThreeAmericanName                 72978  non-null values\n",
        "MMRAcquisitionAuctionAveragePrice    72965  non-null values\n",
        "MMRAcquisitionAuctionCleanPrice      72965  non-null values\n",
        "MMRAcquisitionRetailAveragePrice     72965  non-null values\n",
        "MMRAcquisitonRetailCleanPrice        72965  non-null values\n",
        "MMRCurrentAuctionAveragePrice        72668  non-null values\n",
        "MMRCurrentAuctionCleanPrice          72668  non-null values\n",
        "MMRCurrentRetailAveragePrice         72668  non-null values\n",
        "MMRCurrentRetailCleanPrice           72668  non-null values\n",
        "PRIMEUNIT                            3419  non-null values\n",
        "AUCGUART                             3419  non-null values\n",
        "BYRNO                                72983  non-null values\n",
        "VNZIP1                               72983  non-null values\n",
        "VNST                                 72983  non-null values\n",
        "VehBCost                             72983  non-null values\n",
        "IsOnlineSale                         72983  non-null values\n",
        "WarrantyCost                         72983  non-null values\n",
        "smart_make                           72983  non-null values\n",
        "dtypes: float64(10), int64(9), object(16)"
       ]
      }
     ],
     "prompt_number": 15
    },
    {
     "cell_type": "code",
     "collapsed": false,
     "input": [
      "top_10_make.add('Other')"
     ],
     "language": "python",
     "metadata": {},
     "outputs": [],
     "prompt_number": 46
    },
    {
     "cell_type": "code",
     "collapsed": false,
     "input": [
      "top_10_make"
     ],
     "language": "python",
     "metadata": {},
     "outputs": [
      {
       "metadata": {},
       "output_type": "pyout",
       "prompt_number": 47,
       "text": [
        "{'CHEVROLET',\n",
        " 'CHRYSLER',\n",
        " 'DODGE',\n",
        " 'FORD',\n",
        " 'HYUNDAI',\n",
        " 'JEEP',\n",
        " 'KIA',\n",
        " 'NISSAN',\n",
        " 'Other',\n",
        " 'PONTIAC',\n",
        " 'SATURN'}"
       ]
      }
     ],
     "prompt_number": 47
    },
    {
     "cell_type": "code",
     "collapsed": false,
     "input": [
      "f = pd.get_dummies(data.smart_make)\n"
     ],
     "language": "python",
     "metadata": {},
     "outputs": [],
     "prompt_number": 54
    },
    {
     "cell_type": "code",
     "collapsed": false,
     "input": [
      "print f"
     ],
     "language": "python",
     "metadata": {},
     "outputs": [
      {
       "output_type": "stream",
       "stream": "stdout",
       "text": [
        "<class 'pandas.core.frame.DataFrame'>\n",
        "Int64Index: 72983 entries, 0 to 72982\n",
        "Data columns (total 11 columns):\n",
        "CHEVROLET    72983  non-null values\n",
        "CHRYSLER     72983  non-null values\n",
        "DODGE        72983  non-null values\n",
        "FORD         72983  non-null values\n",
        "HYUNDAI      72983  non-null values\n",
        "JEEP         72983  non-null values\n",
        "KIA          72983  non-null values\n",
        "NISSAN       72983  non-null values\n",
        "Other        72983  non-null values\n",
        "PONTIAC      72983  non-null values\n",
        "SATURN       72983  non-null values\n",
        "dtypes: float64(11)\n"
       ]
      }
     ],
     "prompt_number": 55
    },
    {
     "cell_type": "code",
     "collapsed": false,
     "input": [],
     "language": "python",
     "metadata": {},
     "outputs": []
    }
   ],
   "metadata": {}
  }
 ]
}