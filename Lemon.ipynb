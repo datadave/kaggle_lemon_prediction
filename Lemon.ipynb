{
 "metadata": {
  "name": ""
 },
 "nbformat": 3,
 "nbformat_minor": 0,
 "worksheets": [
  {
   "cells": [
    {
     "cell_type": "code",
     "collapsed": false,
     "input": [
      "import pandas as pd\n",
      "\n",
      "data = pd.read_csv('training.csv')\n",
      "data.WarrantyCost.describe()"
     ],
     "language": "python",
     "metadata": {},
     "outputs": [
      {
       "output_type": "stream",
       "stream": "stderr",
       "text": [
        "/Users/gussand/anaconda/lib/python2.7/site-packages/pytz/__init__.py:35: UserWarning: Module argparse was already imported from /Users/gussand/anaconda/python.app/Contents/lib/python2.7/argparse.pyc, but /Users/gussand/anaconda/lib/python2.7/site-packages is being added to sys.path\n",
        "  from pkg_resources import resource_stream\n"
       ]
      },
      {
       "metadata": {},
       "output_type": "pyout",
       "prompt_number": 2,
       "text": [
        "count    72983.000000\n",
        "mean      1276.580985\n",
        "std        598.846788\n",
        "min        462.000000\n",
        "25%        837.000000\n",
        "50%       1155.000000\n",
        "75%       1623.000000\n",
        "max       7498.000000\n",
        "dtype: float64"
       ]
      }
     ],
     "prompt_number": 2
    },
    {
     "cell_type": "code",
     "collapsed": false,
     "input": [
      "data.WarrantyCost.value_counts()[:20]"
     ],
     "language": "python",
     "metadata": {},
     "outputs": [
      {
       "metadata": {},
       "output_type": "pyout",
       "prompt_number": 10,
       "text": [
        "920     2870\n",
        "1974    2407\n",
        "2152    2082\n",
        "1389    2078\n",
        "1215    2006\n",
        "1155    1878\n",
        "803     1690\n",
        "728     1663\n",
        "1503    1599\n",
        "1086    1579\n",
        "1243    1489\n",
        "1703    1460\n",
        "569     1393\n",
        "1020    1372\n",
        "983     1351\n",
        "1272    1291\n",
        "853     1223\n",
        "533     1174\n",
        "1623    1145\n",
        "671     1134\n",
        "dtype: int64"
       ]
      }
     ],
     "prompt_number": 10
    },
    {
     "cell_type": "code",
     "collapsed": false,
     "input": [
      "grouping = pd.qcut(data.WarrantyCost,4, labels=False)\n",
      "grouping"
     ],
     "language": "python",
     "metadata": {},
     "outputs": [
      {
       "metadata": {},
       "output_type": "pyout",
       "prompt_number": 17,
       "text": [
        "array([1, 1, 2, ..., 3, 3, 2])"
       ]
      }
     ],
     "prompt_number": 17
    },
    {
     "cell_type": "code",
     "collapsed": false,
     "input": [
      "data.SubModel.head()"
     ],
     "language": "python",
     "metadata": {},
     "outputs": [
      {
       "metadata": {},
       "output_type": "pyout",
       "prompt_number": 51,
       "text": [
        "0           4D SEDAN I\n",
        "1    QUAD CAB 4.7L SLT\n",
        "2     4D SEDAN SXT FFV\n",
        "3             4D SEDAN\n",
        "4         2D COUPE ZX3\n",
        "Name: SubModel, dtype: object"
       ]
      }
     ],
     "prompt_number": 51
    },
    {
     "cell_type": "code",
     "collapsed": false,
     "input": [
      "#data['subType2'] = data.SubModel.map(lambda x: )\n",
      "\n",
      "s = \"4D SEDAN LS\"\n",
      "s1 = s[:8]\n",
      "print s1"
     ],
     "language": "python",
     "metadata": {},
     "outputs": [
      {
       "output_type": "stream",
       "stream": "stdout",
       "text": [
        "4D SEDAN\n"
       ]
      }
     ],
     "prompt_number": 24
    },
    {
     "cell_type": "code",
     "collapsed": false,
     "input": [
      "data['SubModel'] = data['SubModel'].map(lambda x: )"
     ],
     "language": "python",
     "metadata": {},
     "outputs": [
      {
       "ename": "TypeError",
       "evalue": "'float' object has no attribute '__getitem__'",
       "output_type": "pyerr",
       "traceback": [
        "\u001b[0;31m---------------------------------------------------------------------------\u001b[0m\n\u001b[0;31mTypeError\u001b[0m                                 Traceback (most recent call last)",
        "\u001b[0;32m<ipython-input-50-53422ef1cd88>\u001b[0m in \u001b[0;36m<module>\u001b[0;34m()\u001b[0m\n\u001b[0;32m----> 1\u001b[0;31m \u001b[0mdata\u001b[0m\u001b[0;34m[\u001b[0m\u001b[0;34m'SubModel'\u001b[0m\u001b[0;34m]\u001b[0m \u001b[0;34m=\u001b[0m \u001b[0mdata\u001b[0m\u001b[0;34m[\u001b[0m\u001b[0;34m'SubModel'\u001b[0m\u001b[0;34m]\u001b[0m\u001b[0;34m.\u001b[0m\u001b[0mmap\u001b[0m\u001b[0;34m(\u001b[0m\u001b[0;32mlambda\u001b[0m \u001b[0mx\u001b[0m\u001b[0;34m:\u001b[0m \u001b[0mx\u001b[0m\u001b[0;34m[\u001b[0m\u001b[0;34m:\u001b[0m\u001b[0;36m8\u001b[0m\u001b[0;34m]\u001b[0m\u001b[0;34m.\u001b[0m\u001b[0mlower\u001b[0m\u001b[0;34m)\u001b[0m\u001b[0;34m\u001b[0m\u001b[0m\n\u001b[0m",
        "\u001b[0;32m/Users/gussand/anaconda/lib/python2.7/site-packages/pandas/core/series.pyc\u001b[0m in \u001b[0;36mmap\u001b[0;34m(self, arg, na_action)\u001b[0m\n\u001b[1;32m   2495\u001b[0m             \u001b[0;32mreturn\u001b[0m \u001b[0mSeries\u001b[0m\u001b[0;34m(\u001b[0m\u001b[0mnew_values\u001b[0m\u001b[0;34m,\u001b[0m \u001b[0mindex\u001b[0m\u001b[0;34m=\u001b[0m\u001b[0mself\u001b[0m\u001b[0;34m.\u001b[0m\u001b[0mindex\u001b[0m\u001b[0;34m,\u001b[0m \u001b[0mname\u001b[0m\u001b[0;34m=\u001b[0m\u001b[0mself\u001b[0m\u001b[0;34m.\u001b[0m\u001b[0mname\u001b[0m\u001b[0;34m)\u001b[0m\u001b[0;34m\u001b[0m\u001b[0m\n\u001b[1;32m   2496\u001b[0m         \u001b[0;32melse\u001b[0m\u001b[0;34m:\u001b[0m\u001b[0;34m\u001b[0m\u001b[0m\n\u001b[0;32m-> 2497\u001b[0;31m             \u001b[0mmapped\u001b[0m \u001b[0;34m=\u001b[0m \u001b[0mmap_f\u001b[0m\u001b[0;34m(\u001b[0m\u001b[0mvalues\u001b[0m\u001b[0;34m,\u001b[0m \u001b[0marg\u001b[0m\u001b[0;34m)\u001b[0m\u001b[0;34m\u001b[0m\u001b[0m\n\u001b[0m\u001b[1;32m   2498\u001b[0m             \u001b[0;32mreturn\u001b[0m \u001b[0mSeries\u001b[0m\u001b[0;34m(\u001b[0m\u001b[0mmapped\u001b[0m\u001b[0;34m,\u001b[0m \u001b[0mindex\u001b[0m\u001b[0;34m=\u001b[0m\u001b[0mself\u001b[0m\u001b[0;34m.\u001b[0m\u001b[0mindex\u001b[0m\u001b[0;34m,\u001b[0m \u001b[0mname\u001b[0m\u001b[0;34m=\u001b[0m\u001b[0mself\u001b[0m\u001b[0;34m.\u001b[0m\u001b[0mname\u001b[0m\u001b[0;34m)\u001b[0m\u001b[0;34m\u001b[0m\u001b[0m\n\u001b[1;32m   2499\u001b[0m \u001b[0;34m\u001b[0m\u001b[0m\n",
        "\u001b[0;32m/Users/gussand/anaconda/lib/python2.7/site-packages/pandas/lib.so\u001b[0m in \u001b[0;36mpandas.lib.map_infer (pandas/lib.c:42840)\u001b[0;34m()\u001b[0m\n",
        "\u001b[0;32m<ipython-input-50-53422ef1cd88>\u001b[0m in \u001b[0;36m<lambda>\u001b[0;34m(x)\u001b[0m\n\u001b[0;32m----> 1\u001b[0;31m \u001b[0mdata\u001b[0m\u001b[0;34m[\u001b[0m\u001b[0;34m'SubModel'\u001b[0m\u001b[0;34m]\u001b[0m \u001b[0;34m=\u001b[0m \u001b[0mdata\u001b[0m\u001b[0;34m[\u001b[0m\u001b[0;34m'SubModel'\u001b[0m\u001b[0;34m]\u001b[0m\u001b[0;34m.\u001b[0m\u001b[0mmap\u001b[0m\u001b[0;34m(\u001b[0m\u001b[0;32mlambda\u001b[0m \u001b[0mx\u001b[0m\u001b[0;34m:\u001b[0m \u001b[0mx\u001b[0m\u001b[0;34m[\u001b[0m\u001b[0;34m:\u001b[0m\u001b[0;36m8\u001b[0m\u001b[0;34m]\u001b[0m\u001b[0;34m.\u001b[0m\u001b[0mlower\u001b[0m\u001b[0;34m)\u001b[0m\u001b[0;34m\u001b[0m\u001b[0m\n\u001b[0m",
        "\u001b[0;31mTypeError\u001b[0m: 'float' object has no attribute '__getitem__'"
       ]
      }
     ],
     "prompt_number": 50
    },
    {
     "cell_type": "code",
     "collapsed": false,
     "input": [
      "data.VNST.describe()"
     ],
     "language": "python",
     "metadata": {},
     "outputs": [
      {
       "ename": "NameError",
       "evalue": "name 'data' is not defined",
       "output_type": "pyerr",
       "traceback": [
        "\u001b[0;31m---------------------------------------------------------------------------\u001b[0m\n\u001b[0;31mNameError\u001b[0m                                 Traceback (most recent call last)",
        "\u001b[0;32m<ipython-input-1-865925175787>\u001b[0m in \u001b[0;36m<module>\u001b[0;34m()\u001b[0m\n\u001b[0;32m----> 1\u001b[0;31m \u001b[0mdata\u001b[0m\u001b[0;34m.\u001b[0m\u001b[0mVNST\u001b[0m\u001b[0;34m.\u001b[0m\u001b[0mdescribe\u001b[0m\u001b[0;34m(\u001b[0m\u001b[0;34m)\u001b[0m\u001b[0;34m\u001b[0m\u001b[0m\n\u001b[0m",
        "\u001b[0;31mNameError\u001b[0m: name 'data' is not defined"
       ]
      }
     ],
     "prompt_number": 1
    },
    {
     "cell_type": "code",
     "collapsed": false,
     "input": [
      "\n",
      "data\n"
     ],
     "language": "python",
     "metadata": {},
     "outputs": [
      {
       "html": [
        "<pre>\n",
        "&lt;class 'pandas.core.frame.DataFrame'&gt;\n",
        "Int64Index: 72983 entries, 0 to 72982\n",
        "Data columns (total 34 columns):\n",
        "RefId                                72983  non-null values\n",
        "IsBadBuy                             72983  non-null values\n",
        "PurchDate                            72983  non-null values\n",
        "Auction                              72983  non-null values\n",
        "VehYear                              72983  non-null values\n",
        "VehicleAge                           72983  non-null values\n",
        "Make                                 72983  non-null values\n",
        "Model                                72983  non-null values\n",
        "Trim                                 70623  non-null values\n",
        "SubModel                             72975  non-null values\n",
        "Color                                72975  non-null values\n",
        "Transmission                         72974  non-null values\n",
        "WheelTypeID                          69814  non-null values\n",
        "WheelType                            69809  non-null values\n",
        "VehOdo                               72983  non-null values\n",
        "Nationality                          72978  non-null values\n",
        "Size                                 72978  non-null values\n",
        "TopThreeAmericanName                 72978  non-null values\n",
        "MMRAcquisitionAuctionAveragePrice    72965  non-null values\n",
        "MMRAcquisitionAuctionCleanPrice      72965  non-null values\n",
        "MMRAcquisitionRetailAveragePrice     72965  non-null values\n",
        "MMRAcquisitonRetailCleanPrice        72965  non-null values\n",
        "MMRCurrentAuctionAveragePrice        72668  non-null values\n",
        "MMRCurrentAuctionCleanPrice          72668  non-null values\n",
        "MMRCurrentRetailAveragePrice         72668  non-null values\n",
        "MMRCurrentRetailCleanPrice           72668  non-null values\n",
        "PRIMEUNIT                            3419  non-null values\n",
        "AUCGUART                             3419  non-null values\n",
        "BYRNO                                72983  non-null values\n",
        "VNZIP1                               72983  non-null values\n",
        "VNST                                 72983  non-null values\n",
        "VehBCost                             72983  non-null values\n",
        "IsOnlineSale                         72983  non-null values\n",
        "WarrantyCost                         72983  non-null values\n",
        "dtypes: float64(10), int64(9), object(15)\n",
        "</pre>"
       ],
       "metadata": {},
       "output_type": "pyout",
       "prompt_number": 4,
       "text": [
        "<class 'pandas.core.frame.DataFrame'>\n",
        "Int64Index: 72983 entries, 0 to 72982\n",
        "Data columns (total 34 columns):\n",
        "RefId                                72983  non-null values\n",
        "IsBadBuy                             72983  non-null values\n",
        "PurchDate                            72983  non-null values\n",
        "Auction                              72983  non-null values\n",
        "VehYear                              72983  non-null values\n",
        "VehicleAge                           72983  non-null values\n",
        "Make                                 72983  non-null values\n",
        "Model                                72983  non-null values\n",
        "Trim                                 70623  non-null values\n",
        "SubModel                             72975  non-null values\n",
        "Color                                72975  non-null values\n",
        "Transmission                         72974  non-null values\n",
        "WheelTypeID                          69814  non-null values\n",
        "WheelType                            69809  non-null values\n",
        "VehOdo                               72983  non-null values\n",
        "Nationality                          72978  non-null values\n",
        "Size                                 72978  non-null values\n",
        "TopThreeAmericanName                 72978  non-null values\n",
        "MMRAcquisitionAuctionAveragePrice    72965  non-null values\n",
        "MMRAcquisitionAuctionCleanPrice      72965  non-null values\n",
        "MMRAcquisitionRetailAveragePrice     72965  non-null values\n",
        "MMRAcquisitonRetailCleanPrice        72965  non-null values\n",
        "MMRCurrentAuctionAveragePrice        72668  non-null values\n",
        "MMRCurrentAuctionCleanPrice          72668  non-null values\n",
        "MMRCurrentRetailAveragePrice         72668  non-null values\n",
        "MMRCurrentRetailCleanPrice           72668  non-null values\n",
        "PRIMEUNIT                            3419  non-null values\n",
        "AUCGUART                             3419  non-null values\n",
        "BYRNO                                72983  non-null values\n",
        "VNZIP1                               72983  non-null values\n",
        "VNST                                 72983  non-null values\n",
        "VehBCost                             72983  non-null values\n",
        "IsOnlineSale                         72983  non-null values\n",
        "WarrantyCost                         72983  non-null values\n",
        "dtypes: float64(10), int64(9), object(15)"
       ]
      }
     ],
     "prompt_number": 4
    },
    {
     "cell_type": "code",
     "collapsed": false,
     "input": [],
     "language": "python",
     "metadata": {},
     "outputs": []
    }
   ],
   "metadata": {}
  }
 ]
}